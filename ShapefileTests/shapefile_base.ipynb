{
 "cells": [
  {
   "cell_type": "code",
   "execution_count": 3,
   "metadata": {},
   "outputs": [
    {
     "name": "stdout",
     "output_type": "stream",
     "text": [
      "Error Number: 2 \n",
      "Error Type: Debug \n",
      "Error Message: test error \n"
     ]
    },
    {
     "ename": "NameError",
     "evalue": "name 'lry' is not defined",
     "output_type": "error",
     "traceback": [
      "\u001b[1;31m---------------------------------------------------------------------------\u001b[0m",
      "\u001b[1;31mNameError\u001b[0m                                 Traceback (most recent call last)",
      "\u001b[1;32m<ipython-input-3-0a53933ebb11>\u001b[0m in \u001b[0;36m<module>\u001b[1;34m()\u001b[0m\n\u001b[0;32m     41\u001b[0m \u001b[0mshp\u001b[0m \u001b[1;33m=\u001b[0m \u001b[0mdriver\u001b[0m\u001b[1;33m.\u001b[0m\u001b[0mOpen\u001b[0m\u001b[1;33m(\u001b[0m\u001b[1;34m'C:/Users/Elena Arsevska/Dropbox/Savsnet_main_work/Veterinary Practices/shapefiles/PostalArea.shp'\u001b[0m\u001b[1;33m,\u001b[0m \u001b[1;36m0\u001b[0m\u001b[1;33m)\u001b[0m\u001b[1;33m\u001b[0m\u001b[0m\n\u001b[0;32m     42\u001b[0m \u001b[0mlyr\u001b[0m \u001b[1;33m=\u001b[0m \u001b[0mshp\u001b[0m\u001b[1;33m.\u001b[0m\u001b[0mGetLayer\u001b[0m\u001b[1;33m(\u001b[0m\u001b[1;33m)\u001b[0m\u001b[1;33m\u001b[0m\u001b[0m\n\u001b[1;32m---> 43\u001b[1;33m \u001b[0mt\u001b[0m \u001b[1;33m=\u001b[0m \u001b[0mlry\u001b[0m\u001b[1;33m.\u001b[0m\u001b[0mGetSpatialRef\u001b[0m\u001b[1;33m\u001b[0m\u001b[0m\n\u001b[0m\u001b[0;32m     44\u001b[0m \u001b[0mprint\u001b[0m\u001b[1;33m(\u001b[0m\u001b[0mt\u001b[0m\u001b[1;33m)\u001b[0m\u001b[1;33m\u001b[0m\u001b[0m\n\u001b[0;32m     45\u001b[0m \u001b[1;33m\u001b[0m\u001b[0m\n",
      "\u001b[1;31mNameError\u001b[0m: name 'lry' is not defined"
     ]
    }
   ],
   "source": [
    "import shapely\n",
    "import matplotlib\n",
    "import geopandas as gp\n",
    "import ogr\n",
    "try:\n",
    "    from osgeo import ogr, osr, gdal\n",
    "except:\n",
    "    sys.exit('ERROR: cannot find GDAL/OGR modules')\n",
    "\n",
    "# example GDAL error handler function\n",
    "def gdal_error_handler(err_class, err_num, err_msg):\n",
    "    errtype = {\n",
    "            gdal.CE_None:'None',\n",
    "            gdal.CE_Debug:'Debug',\n",
    "            gdal.CE_Warning:'Warning',\n",
    "            gdal.CE_Failure:'Failure',\n",
    "            gdal.CE_Fatal:'Fatal'\n",
    "    }\n",
    "    err_msg = err_msg.replace('\\n',' ')\n",
    "    err_class = errtype.get(err_class, 'None')\n",
    "    print (\"Error Number: %s \"% (err_num))\n",
    "    print ('Error Type: %s ' % (err_class))\n",
    "    print ('Error Message: %s ' % (err_msg))\n",
    "\n",
    "if __name__=='__main__':\n",
    "\n",
    "    # install error handler\n",
    "    gdal.PushErrorHandler(gdal_error_handler)\n",
    "\n",
    "    # Raise a dummy error\n",
    "    gdal.Error(1, 2, 'test error')\n",
    "\n",
    "    #uninstall error handler\n",
    "    gdal.PopErrorHandler()\n",
    "\n",
    "\n",
    "#sns.set(rc={'image.cmap': 'cubehelix'})\n",
    "#sns.set_context('poster')\n",
    "driver = ogr.GetDriverByName('ESRI Shapefile')\n",
    "\n",
    "shp = driver.Open('C:/Users/Elena Arsevska/Dropbox/Savsnet_main_work/Veterinary Practices/shapefiles/PostalArea.shp', 0)\n",
    "lyr = shp.GetLayer()\n",
    "t = lry.GetSpatialRef\n",
    "print(t)\n",
    "\n",
    "feat = lyr.GetNextFeature()\n",
    "geom = feat.GetGeometryRef()\n",
    "\n",
    "# Transform from Web Mercator to WGS84\n",
    "sourceSR = lyr.GetSpatialRef()\n",
    "print(sourceSR)\n",
    "targetSR = osr.SpatialReference()\n",
    "targetSR.ImportFromEPSG(4326) # WGS84\n",
    "coordTrans = osr.CoordinateTransformation(sourceSR,targetSR)\n",
    "\n",
    "geom.Transform(coordTrans)\n",
    "\n",
    "x = geom.GetX() \n",
    "y = geom.GetY() \n",
    "\n",
    "print (x)\n",
    "\n",
    "\n",
    "#shapefile = gp.GeoDataFrame.from_file(\"C:/Users/Elena Arsevska/Dropbox/Savsnet_main_work/Spatial/PostalArea.shp\")\n",
    "#studyarea = shapely.geometry.box(-2., 58., -5., 60.)\n",
    "#ax1 = shapefile[shapefile.geometry.intersects(studyarea)].plot()\n",
    "#ax1.set_aspect(2)\n",
    "#fig = plt.gcf()\n",
    "#fig.set_size_inches(10, 10)"
   ]
  },
  {
   "cell_type": "code",
   "execution_count": null,
   "metadata": {
    "collapsed": true
   },
   "outputs": [],
   "source": []
  }
 ],
 "metadata": {
  "kernelspec": {
   "display_name": "Python 3",
   "language": "python",
   "name": "python3"
  },
  "language_info": {
   "codemirror_mode": {
    "name": "ipython",
    "version": 3
   },
   "file_extension": ".py",
   "mimetype": "text/x-python",
   "name": "python",
   "nbconvert_exporter": "python",
   "pygments_lexer": "ipython3",
   "version": "3.6.0"
  }
 },
 "nbformat": 4,
 "nbformat_minor": 2
}
