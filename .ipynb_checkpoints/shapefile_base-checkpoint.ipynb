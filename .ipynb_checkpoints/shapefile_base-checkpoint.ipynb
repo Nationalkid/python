{
 "cells": [
  {
   "cell_type": "code",
   "execution_count": 11,
   "metadata": {},
   "outputs": [
    {
     "name": "stdout",
     "output_type": "stream",
     "text": [
      "Error Number: 2 \n",
      "Error Type: Debug \n",
      "Error Message: test error \n",
      "<bound method Layer.GetSpatialRef of <osgeo.ogr.Layer; proxy of <Swig Object of type 'OGRLayerShadow *' at 0x05DA5860> >>\n",
      "PROJCS[\"Transverse_Mercator\",\n",
      "    GEOGCS[\"GCS_Airy 1830\",\n",
      "        DATUM[\"unknown\",\n",
      "            SPHEROID[\"airy\",6377563.396,299.3249753150316]],\n",
      "        PRIMEM[\"Greenwich\",0],\n",
      "        UNIT[\"Degree\",0.017453292519943295]],\n",
      "    PROJECTION[\"Transverse_Mercator\"],\n",
      "    PARAMETER[\"latitude_of_origin\",49],\n",
      "    PARAMETER[\"central_meridian\",-2],\n",
      "    PARAMETER[\"scale_factor\",0.9996012717],\n",
      "    PARAMETER[\"false_easting\",400000],\n",
      "    PARAMETER[\"false_northing\",-100000],\n",
      "    UNIT[\"Meter\",1]]\n",
      "<osgeo.osr.CoordinateTransformation; proxy of None >\n"
     ]
    },
    {
     "ename": "TypeError",
     "evalue": "in method 'Geometry_Transform', argument 2 of type 'OSRCoordinateTransformationShadow *'",
     "output_type": "error",
     "traceback": [
      "\u001b[1;31m---------------------------------------------------------------------------\u001b[0m",
      "\u001b[1;31mTypeError\u001b[0m                                 Traceback (most recent call last)",
      "\u001b[1;32m<ipython-input-11-c9bea0ada535>\u001b[0m in \u001b[0;36m<module>\u001b[1;34m()\u001b[0m\n\u001b[0;32m     54\u001b[0m \u001b[0mcoordTrans\u001b[0m \u001b[1;33m=\u001b[0m \u001b[0mosr\u001b[0m\u001b[1;33m.\u001b[0m\u001b[0mCoordinateTransformation\u001b[0m\u001b[1;33m(\u001b[0m\u001b[0msourceSR\u001b[0m\u001b[1;33m,\u001b[0m\u001b[0mtargetSR\u001b[0m\u001b[1;33m)\u001b[0m\u001b[1;33m\u001b[0m\u001b[0m\n\u001b[0;32m     55\u001b[0m \u001b[0mprint\u001b[0m\u001b[1;33m(\u001b[0m\u001b[0mcoordTrans\u001b[0m\u001b[1;33m)\u001b[0m\u001b[1;33m\u001b[0m\u001b[0m\n\u001b[1;32m---> 56\u001b[1;33m \u001b[0mgeom\u001b[0m\u001b[1;33m.\u001b[0m\u001b[0mTransform\u001b[0m\u001b[1;33m(\u001b[0m\u001b[0mcoordTrans\u001b[0m\u001b[1;33m)\u001b[0m\u001b[1;33m\u001b[0m\u001b[0m\n\u001b[0m\u001b[0;32m     57\u001b[0m \u001b[1;33m\u001b[0m\u001b[0m\n\u001b[0;32m     58\u001b[0m \u001b[0mx\u001b[0m \u001b[1;33m=\u001b[0m \u001b[0mgeom\u001b[0m\u001b[1;33m.\u001b[0m\u001b[0mGetX\u001b[0m\u001b[1;33m(\u001b[0m\u001b[1;33m)\u001b[0m\u001b[1;33m\u001b[0m\u001b[0m\n",
      "\u001b[1;32mC:\\Users\\Elena Arsevska\\Miniconda3\\lib\\site-packages\\osgeo\\ogr.py\u001b[0m in \u001b[0;36mTransform\u001b[1;34m(self, *args)\u001b[0m\n\u001b[0;32m   7221\u001b[0m         \u001b[0mOGRERR_NONE\u001b[0m \u001b[0mon\u001b[0m \u001b[0msuccess\u001b[0m \u001b[1;32mor\u001b[0m \u001b[0man\u001b[0m \u001b[0merror\u001b[0m \u001b[0mcode\u001b[0m\u001b[1;33m.\u001b[0m\u001b[1;33m\u001b[0m\u001b[0m\n\u001b[0;32m   7222\u001b[0m         \"\"\"\n\u001b[1;32m-> 7223\u001b[1;33m         \u001b[1;32mreturn\u001b[0m \u001b[0m_ogr\u001b[0m\u001b[1;33m.\u001b[0m\u001b[0mGeometry_Transform\u001b[0m\u001b[1;33m(\u001b[0m\u001b[0mself\u001b[0m\u001b[1;33m,\u001b[0m \u001b[1;33m*\u001b[0m\u001b[0margs\u001b[0m\u001b[1;33m)\u001b[0m\u001b[1;33m\u001b[0m\u001b[0m\n\u001b[0m\u001b[0;32m   7224\u001b[0m \u001b[1;33m\u001b[0m\u001b[0m\n\u001b[0;32m   7225\u001b[0m \u001b[1;33m\u001b[0m\u001b[0m\n",
      "\u001b[1;31mTypeError\u001b[0m: in method 'Geometry_Transform', argument 2 of type 'OSRCoordinateTransformationShadow *'"
     ]
    }
   ],
   "source": [
    "import shapely\n",
    "import matplotlib\n",
    "import geopandas as gp\n",
    "import ogr\n",
    "try:\n",
    "    from osgeo import ogr, osr, gdal\n",
    "except:\n",
    "    sys.exit('ERROR: cannot find GDAL/OGR modules')\n",
    "\n",
    "# example GDAL error handler function\n",
    "def gdal_error_handler(err_class, err_num, err_msg):\n",
    "    errtype = {\n",
    "            gdal.CE_None:'None',\n",
    "            gdal.CE_Debug:'Debug',\n",
    "            gdal.CE_Warning:'Warning',\n",
    "            gdal.CE_Failure:'Failure',\n",
    "            gdal.CE_Fatal:'Fatal'\n",
    "    }\n",
    "    err_msg = err_msg.replace('\\n',' ')\n",
    "    err_class = errtype.get(err_class, 'None')\n",
    "    print (\"Error Number: %s \"% (err_num))\n",
    "    print ('Error Type: %s ' % (err_class))\n",
    "    print ('Error Message: %s ' % (err_msg))\n",
    "\n",
    "if __name__=='__main__':\n",
    "\n",
    "    # install error handler\n",
    "    gdal.PushErrorHandler(gdal_error_handler)\n",
    "\n",
    "    # Raise a dummy error\n",
    "    gdal.Error(1, 2, 'test error')\n",
    "\n",
    "    #uninstall error handler\n",
    "    gdal.PopErrorHandler()\n",
    "\n",
    "\n",
    "#sns.set(rc={'image.cmap': 'cubehelix'})\n",
    "#sns.set_context('poster')\n",
    "driver = ogr.GetDriverByName('ESRI Shapefile')\n",
    "\n",
    "shp = driver.Open('C:/Users/Elena Arsevska/Dropbox/Savsnet_main_work/Spatial/PostalArea.shp', 0)\n",
    "lyr = shp.GetLayer()\n",
    "t = lry.GetSpatialRef\n",
    "print(t)\n",
    "\n",
    "feat = lyr.GetNextFeature()\n",
    "geom = feat.GetGeometryRef()\n",
    "\n",
    "# Transform from Web Mercator to WGS84\n",
    "sourceSR = lyr.GetSpatialRef()\n",
    "print(sourceSR)\n",
    "targetSR = osr.SpatialReference()\n",
    "targetSR.ImportFromEPSG(4326) # WGS84\n",
    "coordTrans = osr.CoordinateTransformation(sourceSR,targetSR)\n",
    "\n",
    "geom.Transform(coordTrans)\n",
    "\n",
    "x = geom.GetX() \n",
    "y = geom.GetY() \n",
    "\n",
    "print (x)\n",
    "\n",
    "\n",
    "#shapefile = gp.GeoDataFrame.from_file(\"C:/Users/Elena Arsevska/Dropbox/Savsnet_main_work/Spatial/PostalArea.shp\")\n",
    "#studyarea = shapely.geometry.box(-2., 58., -5., 60.)\n",
    "#ax1 = shapefile[shapefile.geometry.intersects(studyarea)].plot()\n",
    "#ax1.set_aspect(2)\n",
    "#fig = plt.gcf()\n",
    "#fig.set_size_inches(10, 10)"
   ]
  },
  {
   "cell_type": "code",
   "execution_count": null,
   "metadata": {
    "collapsed": true
   },
   "outputs": [],
   "source": []
  },
  {
   "cell_type": "code",
   "execution_count": null,
   "metadata": {
    "collapsed": true
   },
   "outputs": [],
   "source": []
  }
 ],
 "metadata": {
  "kernelspec": {
   "display_name": "Python 3",
   "language": "python",
   "name": "python3"
  },
  "language_info": {
   "codemirror_mode": {
    "name": "ipython",
    "version": 3
   },
   "file_extension": ".py",
   "mimetype": "text/x-python",
   "name": "python",
   "nbconvert_exporter": "python",
   "pygments_lexer": "ipython3",
   "version": "3.6.0"
  }
 },
 "nbformat": 4,
 "nbformat_minor": 2
}
