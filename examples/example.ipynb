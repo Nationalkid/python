{
 "cells": [
  {
   "cell_type": "code",
   "execution_count": 255,
   "metadata": {
    "collapsed": true,
    "scrolled": true
   },
   "outputs": [],
   "source": [
    "%matplotlib inline\n",
    "\n",
    "import matplotlib\n",
    "import matplotlib.pyplot as plt\n",
    "import plotly.plotly as py\n",
    "import pandas as pd\n",
    "import seaborn as sns\n",
    "import sys\n",
    "\n",
    "species = [\"dog\",\"dog\",\"dog\", \"dog\", \"cat\", \"rabbit\", \n",
    "             \"cat\", \"cat\", \"cat\", \"cat\",\"dog\", \"cat\", \n",
    "             \"cat\", \"cat\", \"cat\",\"cat\"]\n",
    "sign = [\"melena\",\"melena\",\"bloody diarrhea\", \"vomiting\", \"melena\", \n",
    "          \"wattery diarrhea\", \"bloody diarrhea\", \"vomiting\", \"melena\",\n",
    "          \"melena\", \"wattery diarrhea\", \"wattery diarrhea\",\"wattery diarrhea\",\n",
    "          \"bloody diarrhea\", \"bloody diarrhea\",\"bloody diarrhea\"]\n",
    "\n",
    "is_positive = [\"0\",\"1\",\"1\",\"1\",\"0\",\"1\",\"1\",\"0\",\"1\",\"1\",\"0\",\"1\",\"1\",\"0\",\"0\",\"1\"]\n",
    "\n",
    "#Create a list\n",
    "animal_list = {'sign': sign,'species' : species,'is_positive': is_positive}\n",
    "\n",
    "#Create a data frame using the list. Use colmuns to specify the order\n",
    "animal_df = pd.DataFrame(animal_list,\n",
    "                         columns=['species', 'sign', 'is_positive'])\n",
    "\n",
    "#subseting th dataframe: No rabbits allowed!\n",
    "animal_df = animal_df.query('species != \"rabbit\" ')\n",
    "\n",
    "#subseting th dataframe: dogs and cats\n",
    "animal_df_dog = animal_df.query('species == \"dog\" ').groupby([\"species\", \"sign\",\"is_positive\"]).size().to_frame()\n",
    "animal_df_dog = animal_df_dog.reset_index()\n",
    "animal_df_cat = animal_df.query('species == \"cat\" ').groupby([\"species\", \"sign\",\"is_positive\"]).size().to_frame()\n",
    "animal_df_cat = animal_df_cat.reset_index()\n",
    "\n",
    "#.count() suports one variable only\n",
    "#animal_df.groupby('species').count()\n",
    "\n",
    "#subseting th dataframe: No rabbits allowed!\n",
    "animal_tested = animal_df.query('species != \"rabbit\" ').groupby([\"species\", \"sign\",\"is_positive\"]).size().to_frame()\n",
    "animal_tested = animal_tested.reset_index()\n",
    "animal_positive = animal_df.query('species != \"rabbit\" and is_positive == 1').groupby([\"species\", \"sign\",\"is_positive\"]).size().to_frame()\n",
    "animal_positive = animal_positive.reset_index()\n",
    "\n",
    "# Merge Frames\n",
    "frames = [animal_tested, animal_positive]\n",
    "result = pd.concat(frames)\n",
    "\n",
    "# df.rename(columns={\"0\": \"a\"}) wont work since \"0\" is not an index\n",
    "result.columns.values[3] = 'tested'\n",
    "animal_positive.columns.values[2] = 'freq'"
   ]
  },
  {
   "cell_type": "code",
   "execution_count": 256,
   "metadata": {},
   "outputs": [
    {
     "name": "stdout",
     "output_type": "stream",
     "text": [
      "   species              sign is_positive  tested\n",
      "0      cat   bloody diarrhea           0       2\n",
      "1      cat   bloody diarrhea           1       2\n",
      "2      cat            melena           0       1\n",
      "3      cat            melena           1       2\n",
      "4      cat          vomiting           0       1\n",
      "5      cat  wattery diarrhea           1       2\n",
      "6      dog   bloody diarrhea           1       1\n",
      "7      dog            melena           0       1\n",
      "8      dog            melena           1       1\n",
      "9      dog          vomiting           1       1\n",
      "10     dog  wattery diarrhea           0       1\n"
     ]
    }
   ],
   "source": [
    "print(result)"
   ]
  },
  {
   "cell_type": "code",
   "execution_count": 205,
   "metadata": {},
   "outputs": [
    {
     "data": {
      "text/html": [
       "<div>\n",
       "<table border=\"1\" class=\"dataframe\">\n",
       "  <thead>\n",
       "    <tr style=\"text-align: right;\">\n",
       "      <th></th>\n",
       "      <th>species_x</th>\n",
       "      <th>sign_x</th>\n",
       "      <th>is_positive_x</th>\n",
       "      <th>tested</th>\n",
       "      <th>species_y</th>\n",
       "      <th>sign_y</th>\n",
       "      <th>is_positive_y</th>\n",
       "      <th>0_y</th>\n",
       "    </tr>\n",
       "  </thead>\n",
       "  <tbody>\n",
       "  </tbody>\n",
       "</table>\n",
       "</div>"
      ],
      "text/plain": [
       "Empty DataFrame\n",
       "Columns: [species_x, sign_x, is_positive_x, tested, species_y, sign_y, is_positive_y, 0_y]\n",
       "Index: []"
      ]
     },
     "execution_count": 205,
     "metadata": {},
     "output_type": "execute_result"
    }
   ],
   "source": [
    "result"
   ]
  },
  {
   "cell_type": "markdown",
   "metadata": {},
   "source": [
    "Markdown types are normal text, with different behaviors than code.\n",
    "A commennt : using \"#\" at the begining will make the comments below them as titles."
   ]
  },
  {
   "cell_type": "code",
   "execution_count": 159,
   "metadata": {
    "collapsed": true
   },
   "outputs": [],
   "source": [
    "#dog_plot = sns.countplot( y=\"sign\",hue=\"is_positive\", data=animal_df_dog)\n",
    "#cat_plot = sns.countplot( y=\"sign\",hue=\"is_positive\", data=animal_df_cat)"
   ]
  },
  {
   "cell_type": "markdown",
   "metadata": {},
   "source": [
    "#Just like this"
   ]
  },
  {
   "cell_type": "markdown",
   "metadata": {},
   "source": [
    "$$e^x=\\sum_{i=0}^\\infty \\frac{1}{i!}x^i$$"
   ]
  },
  {
   "cell_type": "markdown",
   "metadata": {},
   "source": [
    "$e^x=\\sum_{i=0}^\\infty \\frac{1}{i!}x^i$"
   ]
  },
  {
   "cell_type": "code",
   "execution_count": 185,
   "metadata": {},
   "outputs": [
    {
     "data": {
      "text/plain": [
       "<seaborn.axisgrid.FacetGrid at 0xce25ab0>"
      ]
     },
     "execution_count": 185,
     "metadata": {},
     "output_type": "execute_result"
    },
    {
     "data": {
      "image/png": "[encoded data removed]",
      "text/plain": [
       "<matplotlib.figure.Figure at 0xce1fad0>"
      ]
     },
     "metadata": {},
     "output_type": "display_data"
    }
   ],
   "source": [
    "g = sns.factorplot(y=\"sign\", col= \"species\", hue=\"is_positive\",data=animal_df,size=7, \n",
    "                   aspect=1, palette=\"Set3\",\n",
    "                   kind=\"count\")\n",
    "(g.set_axis_labels(\"\", \"Clinical signs\")\n",
    "   .set_titles(\"{col_name} {col_var}\")\n",
    "   .set(ylim=(0,4))\n",
    "   .despine(left=True)) "
   ]
  },
  {
   "cell_type": "code",
   "execution_count": null,
   "metadata": {
    "collapsed": true
   },
   "outputs": [],
   "source": []
  },
  {
   "cell_type": "code",
   "execution_count": null,
   "metadata": {
    "collapsed": true
   },
   "outputs": [],
   "source": []
  }
 ],
 "metadata": {
  "kernelspec": {
   "display_name": "Python 3",
   "language": "python",
   "name": "python3"
  },
  "language_info": {
   "codemirror_mode": {
    "name": "ipython",
    "version": 3
   },
   "file_extension": ".py",
   "mimetype": "text/x-python",
   "name": "python",
   "nbconvert_exporter": "python",
   "pygments_lexer": "ipython3",
   "version": "3.6.0"
  }
 },
 "nbformat": 4,
 "nbformat_minor": 2
}
